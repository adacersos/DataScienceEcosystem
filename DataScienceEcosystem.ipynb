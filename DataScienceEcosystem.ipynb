{
 "cells": [
  {
   "cell_type": "markdown",
   "id": "1bcf3419",
   "metadata": {},
   "source": [
    "# Data Science Tools and Ecosystem"
   ]
  },
  {
   "cell_type": "markdown",
   "id": "4fb16e45",
   "metadata": {},
   "source": [
    "This notebook will summarize Data Science Tools and Ecosystem."
   ]
  },
  {
   "cell_type": "markdown",
   "id": "ed58f880",
   "metadata": {},
   "source": [
    "__Objectives:__\n",
    "+ List some popular languages that data scientists use\n",
    "+ List some commonly used libraries that data scientists use\n",
    "+ Create a code cell that multiplies and adds numbers\n",
    "+ Create a code cell that converts minutes to hours"
   ]
  },
  {
   "cell_type": "markdown",
   "id": "0c3c9a65",
   "metadata": {},
   "source": [
    "Some of the popular languages that Data Scientists use are:\n",
    "1. Python\n",
    "2. R\n",
    "3. Julia"
   ]
  },
  {
   "cell_type": "markdown",
   "id": "151cc3e9",
   "metadata": {},
   "source": [
    "Some of the commonly used libraries used by Data Scientists include:\n",
    "1. Pandas\n",
    "2. NumPy\n",
    "3. Matplotlib"
   ]
  },
  {
   "cell_type": "markdown",
   "id": "1e744dd7",
   "metadata": {},
   "source": [
    "Data Science Tools|\n",
    "--------------------------|\n",
    "Jupiter Notebooks|\n",
    "Apache Zeppelin|\n",
    "Spyder|"
   ]
  },
  {
   "cell_type": "markdown",
   "id": "773313ed",
   "metadata": {},
   "source": [
    "### Below are a few examples of evaluating arithmetic expressions in Python"
   ]
  },
  {
   "cell_type": "code",
   "execution_count": 2,
   "id": "c426e985",
   "metadata": {},
   "outputs": [
    {
     "data": {
      "text/plain": [
       "17"
      ]
     },
     "execution_count": 2,
     "metadata": {},
     "output_type": "execute_result"
    }
   ],
   "source": [
    "#This a simple arithmetic expression to mutiply then add integers\n",
    "(3*4)+5"
   ]
  },
  {
   "cell_type": "code",
   "execution_count": 3,
   "id": "cdabb061",
   "metadata": {},
   "outputs": [
    {
     "data": {
      "text/plain": [
       "3.3333333333333335"
      ]
     },
     "execution_count": 3,
     "metadata": {},
     "output_type": "execute_result"
    }
   ],
   "source": [
    "#This will convert 200 minutes to hours by dividing by 60\n",
    "200/60"
   ]
  },
  {
   "cell_type": "markdown",
   "id": "46147da6",
   "metadata": {},
   "source": [
    "## Author:\n",
    "Adam"
   ]
  },
  {
   "cell_type": "code",
   "execution_count": null,
   "id": "79b60672",
   "metadata": {},
   "outputs": [],
   "source": []
  }
 ],
 "metadata": {
  "kernelspec": {
   "display_name": "Python 3 (ipykernel)",
   "language": "python",
   "name": "python3"
  },
  "language_info": {
   "codemirror_mode": {
    "name": "ipython",
    "version": 3
   },
   "file_extension": ".py",
   "mimetype": "text/x-python",
   "name": "python",
   "nbconvert_exporter": "python",
   "pygments_lexer": "ipython3",
   "version": "3.10.9"
  }
 },
 "nbformat": 4,
 "nbformat_minor": 5
}
